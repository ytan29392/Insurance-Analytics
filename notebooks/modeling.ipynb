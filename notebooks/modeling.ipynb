{
 "cells": [
  {
   "cell_type": "markdown",
   "id": "6da45b0e",
   "metadata": {},
   "source": [
    "Import "
   ]
  },
  {
   "cell_type": "code",
   "execution_count": 1,
   "id": "02c2b8c2",
   "metadata": {},
   "outputs": [
    {
     "ename": "ModuleNotFoundError",
     "evalue": "No module named 'xgboost'",
     "output_type": "error",
     "traceback": [
      "\u001b[31m---------------------------------------------------------------------------\u001b[39m",
      "\u001b[31mModuleNotFoundError\u001b[39m                       Traceback (most recent call last)",
      "\u001b[36mCell\u001b[39m\u001b[36m \u001b[39m\u001b[32mIn[1]\u001b[39m\u001b[32m, line 6\u001b[39m\n\u001b[32m      4\u001b[39m \u001b[38;5;28;01mfrom\u001b[39;00m\u001b[38;5;250m \u001b[39m\u001b[34;01msklearn\u001b[39;00m\u001b[34;01m.\u001b[39;00m\u001b[34;01mlinear_model\u001b[39;00m\u001b[38;5;250m \u001b[39m\u001b[38;5;28;01mimport\u001b[39;00m LinearRegression\n\u001b[32m      5\u001b[39m \u001b[38;5;28;01mfrom\u001b[39;00m\u001b[38;5;250m \u001b[39m\u001b[34;01msklearn\u001b[39;00m\u001b[34;01m.\u001b[39;00m\u001b[34;01mensemble\u001b[39;00m\u001b[38;5;250m \u001b[39m\u001b[38;5;28;01mimport\u001b[39;00m RandomForestRegressor\n\u001b[32m----> \u001b[39m\u001b[32m6\u001b[39m \u001b[38;5;28;01mfrom\u001b[39;00m\u001b[38;5;250m \u001b[39m\u001b[34;01mxgboost\u001b[39;00m\u001b[38;5;250m \u001b[39m\u001b[38;5;28;01mimport\u001b[39;00m XGBRegressor\n\u001b[32m      7\u001b[39m \u001b[38;5;28;01mfrom\u001b[39;00m\u001b[38;5;250m \u001b[39m\u001b[34;01msklearn\u001b[39;00m\u001b[34;01m.\u001b[39;00m\u001b[34;01mmetrics\u001b[39;00m\u001b[38;5;250m \u001b[39m\u001b[38;5;28;01mimport\u001b[39;00m mean_squared_error, r2_score\n\u001b[32m      8\u001b[39m \u001b[38;5;28;01mimport\u001b[39;00m\u001b[38;5;250m \u001b[39m\u001b[34;01mshap\u001b[39;00m\n",
      "\u001b[31mModuleNotFoundError\u001b[39m: No module named 'xgboost'"
     ]
    }
   ],
   "source": [
    "import pandas as pd\n",
    "import numpy as np\n",
    "from sklearn.model_selection import train_test_split\n",
    "from sklearn.linear_model import LinearRegression\n",
    "from sklearn.ensemble import RandomForestRegressor\n",
    "from xgboost import XGBRegressor\n",
    "from sklearn.metrics import mean_squared_error, r2_score\n",
    "import shap\n",
    "import matplotlib.pyplot as plt\n",
    "\n",
    "from scripts.utils import add_claim_flags"
   ]
  },
  {
   "cell_type": "markdown",
   "id": "a6b1b066",
   "metadata": {},
   "source": [
    "Load"
   ]
  },
  {
   "cell_type": "code",
   "execution_count": null,
   "id": "f8a6714f",
   "metadata": {},
   "outputs": [],
   "source": [
    "import sys\n",
    "import os\n",
    "\n",
    "# Add the parent directory to sys.path so scripts.utils can be imported\n",
    "sys.path.append(os.path.abspath(os.path.join(os.getcwd(), '..')))\n",
    "\n",
    "try:\n",
    "  from scripts.utils import add_claim_flags\n",
    "except ModuleNotFoundError:\n",
    "  # Dummy function if scripts.utils is not available\n",
    "  def add_claim_flags(df):\n",
    "    # Add a dummy 'HasClaim' column if not present\n",
    "    if 'HasClaim' not in df.columns:\n",
    "      df['HasClaim'] = df['TotalClaims'] > 0\n",
    "    return df\n",
    "\n",
    "\n",
    "df = pd.read_csv('../data/MachineLearningRating_v3.txt', sep='|', engine='python', on_bad_lines='skip')\n",
    "df = add_claim_flags(df)\n",
    "df['VehicleAge'] = 2025 - df['RegistrationYear']\n",
    "df_model = df[['TotalClaims', 'CalculatedPremiumPerTerm', 'VehicleAge', 'Gender', 'Province', 'HasClaim']]\n",
    "df_model = df_model.dropna()"
   ]
  },
  {
   "cell_type": "markdown",
   "id": "ea86e72f",
   "metadata": {},
   "source": [
    "Prediction Model"
   ]
  },
  {
   "cell_type": "code",
   "execution_count": null,
   "id": "e7288028",
   "metadata": {},
   "outputs": [],
   "source": [
    "df_claims = df_model[df_model['HasClaim']]\n",
    "X = pd.get_dummies(df_claims[['VehicleAge', 'Gender', 'Province']], drop_first=True)\n",
    "y = df_claims['TotalClaims']\n",
    "X_train, X_test, y_train, y_test = train_test_split(X, y, test_size=0.2, random_state=42)\n",
    "\n",
    "models = {\n",
    "    \"LinearRegression\": LinearRegression(),\n",
    "    \"RandomForest\": RandomForestRegressor(random_state=42),\n",
    "    \"XGBoost\": XGBRegressor(random_state=42)\n",
    "}\n",
    "\n",
    "results = {}\n",
    "for name, model in models.items():\n",
    "    model.fit(X_train, y_train)\n",
    "    preds = model.predict(X_test)\n",
    "    rmse = mean_squared_error(y_test, preds, squared=False)\n",
    "    r2 = r2_score(y_test, preds)\n",
    "    results[name] = {\"model\": model, \"rmse\": rmse, \"r2\": r2}\n",
    "    print(f\"{name} -> RMSE: {rmse:.2f}, R2: {r2:.2f}\")\n"
   ]
  },
  {
   "cell_type": "markdown",
   "id": "9853360d",
   "metadata": {},
   "source": [
    "SHAP Interpretation for Best Model"
   ]
  },
  {
   "cell_type": "code",
   "execution_count": null,
   "id": "2f375c30",
   "metadata": {},
   "outputs": [],
   "source": [
    "# Choose best model (example: Random Forest)\n",
    "best_model = results[\"RandomForest\"][\"model\"]\n",
    "\n",
    "# Convert boolean columns to int for SHAP compatibility\n",
    "X_test_numeric = X_test.copy()\n",
    "for col in X_test_numeric.select_dtypes(include='bool').columns:\n",
    "  X_test_numeric[col] = X_test_numeric[col].astype(int)\n",
    "\n",
    "# Explain predictions using SHAP\n",
    "explainer = shap.Explainer(best_model.predict, X_test)\n",
    "shap_values = explainer(X_test)\n",
    "\n",
    "# Visualize feature importance\n",
    "shap.plots.beeswarm(shap_values)\n"
   ]
  }
 ],
 "metadata": {
  "kernelspec": {
   "display_name": "venv",
   "language": "python",
   "name": "python3"
  },
  "language_info": {
   "codemirror_mode": {
    "name": "ipython",
    "version": 3
   },
   "file_extension": ".py",
   "mimetype": "text/x-python",
   "name": "python",
   "nbconvert_exporter": "python",
   "pygments_lexer": "ipython3",
   "version": "3.11.9"
  }
 },
 "nbformat": 4,
 "nbformat_minor": 5
}
