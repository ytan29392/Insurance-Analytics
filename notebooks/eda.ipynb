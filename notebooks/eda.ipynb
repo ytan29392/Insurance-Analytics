{
 "cells": [
  {
   "cell_type": "markdown",
   "id": "f4c16df8",
   "metadata": {},
   "source": [
    "Import"
   ]
  },
  {
   "cell_type": "code",
   "execution_count": null,
   "id": "3d6299a9",
   "metadata": {},
   "outputs": [],
   "source": [
    "import sys\n",
    "import os\n",
    "sys.path.append(os.path.abspath(os.path.join(os.getcwd(), '..')))\n",
    "\n",
    "import pandas as pd\n",
    "import matplotlib.pyplot as plt\n",
    "import seaborn as sns\n",
    "from scripts.load_and_summarize import load_data, summarize_numerical, check_missing\n",
    "from scripts.plotting import plot_histogram, plot_boxplot\n",
    "from scripts.Loss_ratio import calculate_loss_ratio, loss_ratio_by_group"
   ]
  },
  {
   "cell_type": "markdown",
   "id": "282400ec",
   "metadata": {},
   "source": [
    "Load Data"
   ]
  },
  {
   "cell_type": "code",
   "execution_count": null,
   "id": "bf2ac3ff",
   "metadata": {},
   "outputs": [],
   "source": [
    "df = load_data('../data/MachineLearningRating_v3.txt')\n",
    "df.head()"
   ]
  },
  {
   "cell_type": "markdown",
   "id": "bb90ad9f",
   "metadata": {},
   "source": [
    "Data Summary"
   ]
  },
  {
   "cell_type": "code",
   "execution_count": null,
   "id": "02820051",
   "metadata": {},
   "outputs": [],
   "source": [
    "summary = summarize_numerical(df, ['TotalPremium', 'TotalClaims'])\n",
    "missing = check_missing(df)\n",
    "print(summary)\n",
    "print(missing)"
   ]
  },
  {
   "cell_type": "markdown",
   "id": "c3f447ab",
   "metadata": {},
   "source": [
    "Univariate Analysis"
   ]
  },
  {
   "cell_type": "code",
   "execution_count": null,
   "id": "1380e670",
   "metadata": {},
   "outputs": [],
   "source": [
    "plot_histogram(df, 'TotalClaims')\n",
    "plot_boxplot(df, 'TotalPremium')"
   ]
  },
  {
   "cell_type": "markdown",
   "id": "8a07bb24",
   "metadata": {},
   "source": [
    "Bivariate Analysis"
   ]
  },
  {
   "cell_type": "code",
   "execution_count": null,
   "id": "6e4780b3",
   "metadata": {},
   "outputs": [],
   "source": [
    "df = calculate_loss_ratio(df)\n",
    "loss_ratio_by_group(df, 'Province')\n",
    "loss_ratio_by_group(df, 'Gender')"
   ]
  },
  {
   "cell_type": "markdown",
   "id": "c735ef1e",
   "metadata": {},
   "source": [
    "Time Series Trend"
   ]
  },
  {
   "cell_type": "code",
   "execution_count": null,
   "id": "05773d8c",
   "metadata": {},
   "outputs": [],
   "source": [
    "df['TransactionMonth'] = pd.to_datetime(df['TransactionMonth'])\n",
    "monthly = df.groupby(df['TransactionMonth'].dt.to_period(\"M\"))[['TotalClaims', 'TotalPremium']].sum()\n",
    "monthly.plot()"
   ]
  },
  {
   "cell_type": "markdown",
   "id": "d501612f",
   "metadata": {},
   "source": [
    "Save Outputs"
   ]
  },
  {
   "cell_type": "code",
   "execution_count": null,
   "id": "1531bd59",
   "metadata": {},
   "outputs": [],
   "source": [
    "plt.savefig('reports/loss_ratio_by_province.png')"
   ]
  }
 ],
 "metadata": {
  "kernelspec": {
   "display_name": "venv",
   "language": "python",
   "name": "python3"
  },
  "language_info": {
   "codemirror_mode": {
    "name": "ipython",
    "version": 3
   },
   "file_extension": ".py",
   "mimetype": "text/x-python",
   "name": "python",
   "nbconvert_exporter": "python",
   "pygments_lexer": "ipython3",
   "version": "3.11.9"
  }
 },
 "nbformat": 4,
 "nbformat_minor": 5
}
