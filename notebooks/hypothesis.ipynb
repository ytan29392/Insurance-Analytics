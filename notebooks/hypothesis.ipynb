{
 "cells": [
  {
   "cell_type": "markdown",
   "id": "3a8b6329",
   "metadata": {},
   "source": [
    "Import"
   ]
  },
  {
   "cell_type": "code",
   "execution_count": 1,
   "id": "c4aad862",
   "metadata": {},
   "outputs": [
    {
     "ename": "ImportError",
     "evalue": "cannot import name 'add_claims' from 'scripts.utils' (e:\\kaim projec\\Insurance-Analytics-week4\\scripts\\utils.py)",
     "output_type": "error",
     "traceback": [
      "\u001b[31m---------------------------------------------------------------------------\u001b[39m",
      "\u001b[31mImportError\u001b[39m                               Traceback (most recent call last)",
      "\u001b[36mCell\u001b[39m\u001b[36m \u001b[39m\u001b[32mIn[1]\u001b[39m\u001b[32m, line 6\u001b[39m\n\u001b[32m      3\u001b[39m sys.path.append(os.path.abspath(os.path.join(os.getcwd(), \u001b[33m'\u001b[39m\u001b[33m..\u001b[39m\u001b[33m'\u001b[39m)))\n\u001b[32m      5\u001b[39m \u001b[38;5;28;01mimport\u001b[39;00m\u001b[38;5;250m \u001b[39m\u001b[34;01mpandas\u001b[39;00m\u001b[38;5;250m \u001b[39m\u001b[38;5;28;01mas\u001b[39;00m\u001b[38;5;250m \u001b[39m\u001b[34;01mpd\u001b[39;00m\n\u001b[32m----> \u001b[39m\u001b[32m6\u001b[39m \u001b[38;5;28;01mfrom\u001b[39;00m\u001b[38;5;250m \u001b[39m\u001b[34;01mscripts\u001b[39;00m\u001b[34;01m.\u001b[39;00m\u001b[34;01mutils\u001b[39;00m\u001b[38;5;250m \u001b[39m\u001b[38;5;28;01mimport\u001b[39;00m add_claims, add_claims_from_file\n\u001b[32m      7\u001b[39m \u001b[38;5;66;03m# from scripts.utils import add_claim_flags\u001b[39;00m\n\u001b[32m      8\u001b[39m \u001b[38;5;28;01mfrom\u001b[39;00m\u001b[38;5;250m \u001b[39m\u001b[34;01mscripts\u001b[39;00m\u001b[34;01m.\u001b[39;00m\u001b[34;01mstat_tests\u001b[39;00m\u001b[38;5;250m \u001b[39m\u001b[38;5;28;01mimport\u001b[39;00m t_test_numeric, anova_numeric, z_test_proportions\n",
      "\u001b[31mImportError\u001b[39m: cannot import name 'add_claims' from 'scripts.utils' (e:\\kaim projec\\Insurance-Analytics-week4\\scripts\\utils.py)"
     ]
    }
   ],
   "source": [
    "import sys\n",
    "import os\n",
    "sys.path.append(os.path.abspath(os.path.join(os.getcwd(), '..')))\n",
    "\n",
    "import pandas as pd\n",
    "from scripts.utils import add_claims, add_claims_from_file\n",
    "# from scripts.utils import add_claim_flags\n",
    "from scripts.stat_tests import t_test_numeric, anova_numeric, z_test_proportions"
   ]
  },
  {
   "cell_type": "markdown",
   "id": "6b477c77",
   "metadata": {},
   "source": [
    "Load and Prepare Data"
   ]
  },
  {
   "cell_type": "code",
   "execution_count": null,
   "id": "2c536415",
   "metadata": {},
   "outputs": [],
   "source": [
    "df = pd.read_csv(\"../data/MachineLearningRating_v3.txt\", sep=\"|\", engine=\"python\", on_bad_lines=\"skip\")\n",
    "df = add_claim_flags(df)\n",
    "df.head()"
   ]
  },
  {
   "cell_type": "markdown",
   "id": "f56e87f9",
   "metadata": {},
   "source": [
    "H₀. No risk difference across provinces "
   ]
  },
  {
   "cell_type": "code",
   "execution_count": null,
   "id": "a5b92073",
   "metadata": {},
   "outputs": [],
   "source": [
    "stat, p = anova_numeric(df, 'Province', 'HasClaim')\n",
    "print(f\"[Province Risk] ANOVA p = {p:.4f}\")"
   ]
  },
  {
   "cell_type": "markdown",
   "id": "96af81c3",
   "metadata": {},
   "source": [
    "H₀. No risk difference between Zip Codes"
   ]
  },
  {
   "cell_type": "code",
   "execution_count": null,
   "id": "fa6ad13b",
   "metadata": {},
   "outputs": [],
   "source": [
    "# Choose 2 common zipcodes\n",
    "zip1, zip2 = 1459, 7500\n",
    "stat, p = z_test_proportions(df, 'PostalCode', zip1, zip2)\n",
    "print(f\"[Zip Risk] Z-Test ({zip1} vs {zip2}) p = {p:.4f}\")"
   ]
  },
  {
   "cell_type": "markdown",
   "id": "4ff466aa",
   "metadata": {},
   "source": [
    "H₀. No margin difference between zip codes"
   ]
  },
  {
   "cell_type": "code",
   "execution_count": null,
   "id": "a46cb5cb",
   "metadata": {},
   "outputs": [],
   "source": [
    "stat, p = t_test_numeric(df, 'PostalCode', 'Margin', zip1, zip2)\n",
    "print(f\"[Zip Margin] T-Test ({zip1} vs {zip2}) p = {p:.4f}\")"
   ]
  },
  {
   "cell_type": "markdown",
   "id": "e9d66ea4",
   "metadata": {},
   "source": [
    "H₀. No risk difference between women and men"
   ]
  },
  {
   "cell_type": "code",
   "execution_count": null,
   "id": "dda2b3dd",
   "metadata": {},
   "outputs": [],
   "source": [
    "stat, p = z_test_proportions(df, 'Gender', 'Male', 'Female')\n",
    "print(f\"[Gender Risk] Z-Test p = {p:.4f}\")"
   ]
  }
 ],
 "metadata": {
  "kernelspec": {
   "display_name": "venv",
   "language": "python",
   "name": "python3"
  },
  "language_info": {
   "codemirror_mode": {
    "name": "ipython",
    "version": 3
   },
   "file_extension": ".py",
   "mimetype": "text/x-python",
   "name": "python",
   "nbconvert_exporter": "python",
   "pygments_lexer": "ipython3",
   "version": "3.11.9"
  }
 },
 "nbformat": 4,
 "nbformat_minor": 5
}
