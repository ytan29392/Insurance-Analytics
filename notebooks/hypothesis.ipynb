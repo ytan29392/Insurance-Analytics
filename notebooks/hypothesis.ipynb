{
 "cells": [
  {
   "cell_type": "markdown",
   "id": "3a8b6329",
   "metadata": {},
   "source": [
    "Import"
   ]
  },
  {
   "cell_type": "code",
   "execution_count": null,
   "id": "c4aad862",
   "metadata": {},
   "outputs": [],
   "source": [
    "import sys\n",
    "import os\n",
    "sys.path.append(os.path.abspath(os.path.join(os.getcwd(), '..')))\n",
    "\n",
    "import pandas as pd\n",
    "from scripts.utils import add_claim_flags\n",
    "from scripts.stat_tests import t_test_numeric, anova_numeric, z_test_proportions"
   ]
  },
  {
   "cell_type": "markdown",
   "id": "6b477c77",
   "metadata": {},
   "source": [
    "Load and Prepare Data"
   ]
  },
  {
   "cell_type": "code",
   "execution_count": 7,
   "id": "2c536415",
   "metadata": {},
   "outputs": [
    {
     "data": {
      "text/html": [
       "<div>\n",
       "<style scoped>\n",
       "    .dataframe tbody tr th:only-of-type {\n",
       "        vertical-align: middle;\n",
       "    }\n",
       "\n",
       "    .dataframe tbody tr th {\n",
       "        vertical-align: top;\n",
       "    }\n",
       "\n",
       "    .dataframe thead th {\n",
       "        text-align: right;\n",
       "    }\n",
       "</style>\n",
       "<table border=\"1\" class=\"dataframe\">\n",
       "  <thead>\n",
       "    <tr style=\"text-align: right;\">\n",
       "      <th></th>\n",
       "      <th>UnderwrittenCoverID</th>\n",
       "      <th>PolicyID</th>\n",
       "      <th>TransactionMonth</th>\n",
       "      <th>IsVATRegistered</th>\n",
       "      <th>Citizenship</th>\n",
       "      <th>LegalType</th>\n",
       "      <th>Title</th>\n",
       "      <th>Language</th>\n",
       "      <th>Bank</th>\n",
       "      <th>AccountType</th>\n",
       "      <th>...</th>\n",
       "      <th>CoverType</th>\n",
       "      <th>CoverGroup</th>\n",
       "      <th>Section</th>\n",
       "      <th>Product</th>\n",
       "      <th>StatutoryClass</th>\n",
       "      <th>StatutoryRiskType</th>\n",
       "      <th>TotalPremium</th>\n",
       "      <th>TotalClaims</th>\n",
       "      <th>HasClaim</th>\n",
       "      <th>Margin</th>\n",
       "    </tr>\n",
       "  </thead>\n",
       "  <tbody>\n",
       "    <tr>\n",
       "      <th>0</th>\n",
       "      <td>145249</td>\n",
       "      <td>12827</td>\n",
       "      <td>2015-03-01 00:00:00</td>\n",
       "      <td>True</td>\n",
       "      <td></td>\n",
       "      <td>Close Corporation</td>\n",
       "      <td>Mr</td>\n",
       "      <td>English</td>\n",
       "      <td>First National Bank</td>\n",
       "      <td>Current account</td>\n",
       "      <td>...</td>\n",
       "      <td>Windscreen</td>\n",
       "      <td>Comprehensive - Taxi</td>\n",
       "      <td>Motor Comprehensive</td>\n",
       "      <td>Mobility Metered Taxis: Monthly</td>\n",
       "      <td>Commercial</td>\n",
       "      <td>IFRS Constant</td>\n",
       "      <td>21.929825</td>\n",
       "      <td>0.0</td>\n",
       "      <td>False</td>\n",
       "      <td>21.929825</td>\n",
       "    </tr>\n",
       "    <tr>\n",
       "      <th>1</th>\n",
       "      <td>145249</td>\n",
       "      <td>12827</td>\n",
       "      <td>2015-05-01 00:00:00</td>\n",
       "      <td>True</td>\n",
       "      <td></td>\n",
       "      <td>Close Corporation</td>\n",
       "      <td>Mr</td>\n",
       "      <td>English</td>\n",
       "      <td>First National Bank</td>\n",
       "      <td>Current account</td>\n",
       "      <td>...</td>\n",
       "      <td>Windscreen</td>\n",
       "      <td>Comprehensive - Taxi</td>\n",
       "      <td>Motor Comprehensive</td>\n",
       "      <td>Mobility Metered Taxis: Monthly</td>\n",
       "      <td>Commercial</td>\n",
       "      <td>IFRS Constant</td>\n",
       "      <td>21.929825</td>\n",
       "      <td>0.0</td>\n",
       "      <td>False</td>\n",
       "      <td>21.929825</td>\n",
       "    </tr>\n",
       "    <tr>\n",
       "      <th>2</th>\n",
       "      <td>145249</td>\n",
       "      <td>12827</td>\n",
       "      <td>2015-07-01 00:00:00</td>\n",
       "      <td>True</td>\n",
       "      <td></td>\n",
       "      <td>Close Corporation</td>\n",
       "      <td>Mr</td>\n",
       "      <td>English</td>\n",
       "      <td>First National Bank</td>\n",
       "      <td>Current account</td>\n",
       "      <td>...</td>\n",
       "      <td>Windscreen</td>\n",
       "      <td>Comprehensive - Taxi</td>\n",
       "      <td>Motor Comprehensive</td>\n",
       "      <td>Mobility Metered Taxis: Monthly</td>\n",
       "      <td>Commercial</td>\n",
       "      <td>IFRS Constant</td>\n",
       "      <td>0.000000</td>\n",
       "      <td>0.0</td>\n",
       "      <td>False</td>\n",
       "      <td>0.000000</td>\n",
       "    </tr>\n",
       "    <tr>\n",
       "      <th>3</th>\n",
       "      <td>145255</td>\n",
       "      <td>12827</td>\n",
       "      <td>2015-05-01 00:00:00</td>\n",
       "      <td>True</td>\n",
       "      <td></td>\n",
       "      <td>Close Corporation</td>\n",
       "      <td>Mr</td>\n",
       "      <td>English</td>\n",
       "      <td>First National Bank</td>\n",
       "      <td>Current account</td>\n",
       "      <td>...</td>\n",
       "      <td>Own Damage</td>\n",
       "      <td>Comprehensive - Taxi</td>\n",
       "      <td>Motor Comprehensive</td>\n",
       "      <td>Mobility Metered Taxis: Monthly</td>\n",
       "      <td>Commercial</td>\n",
       "      <td>IFRS Constant</td>\n",
       "      <td>512.848070</td>\n",
       "      <td>0.0</td>\n",
       "      <td>False</td>\n",
       "      <td>512.848070</td>\n",
       "    </tr>\n",
       "    <tr>\n",
       "      <th>4</th>\n",
       "      <td>145255</td>\n",
       "      <td>12827</td>\n",
       "      <td>2015-07-01 00:00:00</td>\n",
       "      <td>True</td>\n",
       "      <td></td>\n",
       "      <td>Close Corporation</td>\n",
       "      <td>Mr</td>\n",
       "      <td>English</td>\n",
       "      <td>First National Bank</td>\n",
       "      <td>Current account</td>\n",
       "      <td>...</td>\n",
       "      <td>Own Damage</td>\n",
       "      <td>Comprehensive - Taxi</td>\n",
       "      <td>Motor Comprehensive</td>\n",
       "      <td>Mobility Metered Taxis: Monthly</td>\n",
       "      <td>Commercial</td>\n",
       "      <td>IFRS Constant</td>\n",
       "      <td>0.000000</td>\n",
       "      <td>0.0</td>\n",
       "      <td>False</td>\n",
       "      <td>0.000000</td>\n",
       "    </tr>\n",
       "  </tbody>\n",
       "</table>\n",
       "<p>5 rows × 54 columns</p>\n",
       "</div>"
      ],
      "text/plain": [
       "   UnderwrittenCoverID  PolicyID     TransactionMonth  IsVATRegistered  \\\n",
       "0               145249     12827  2015-03-01 00:00:00             True   \n",
       "1               145249     12827  2015-05-01 00:00:00             True   \n",
       "2               145249     12827  2015-07-01 00:00:00             True   \n",
       "3               145255     12827  2015-05-01 00:00:00             True   \n",
       "4               145255     12827  2015-07-01 00:00:00             True   \n",
       "\n",
       "  Citizenship          LegalType Title Language                 Bank  \\\n",
       "0              Close Corporation    Mr  English  First National Bank   \n",
       "1              Close Corporation    Mr  English  First National Bank   \n",
       "2              Close Corporation    Mr  English  First National Bank   \n",
       "3              Close Corporation    Mr  English  First National Bank   \n",
       "4              Close Corporation    Mr  English  First National Bank   \n",
       "\n",
       "       AccountType  ...   CoverType            CoverGroup  \\\n",
       "0  Current account  ...  Windscreen  Comprehensive - Taxi   \n",
       "1  Current account  ...  Windscreen  Comprehensive - Taxi   \n",
       "2  Current account  ...  Windscreen  Comprehensive - Taxi   \n",
       "3  Current account  ...  Own Damage  Comprehensive - Taxi   \n",
       "4  Current account  ...  Own Damage  Comprehensive - Taxi   \n",
       "\n",
       "               Section                          Product  StatutoryClass  \\\n",
       "0  Motor Comprehensive  Mobility Metered Taxis: Monthly      Commercial   \n",
       "1  Motor Comprehensive  Mobility Metered Taxis: Monthly      Commercial   \n",
       "2  Motor Comprehensive  Mobility Metered Taxis: Monthly      Commercial   \n",
       "3  Motor Comprehensive  Mobility Metered Taxis: Monthly      Commercial   \n",
       "4  Motor Comprehensive  Mobility Metered Taxis: Monthly      Commercial   \n",
       "\n",
       "  StatutoryRiskType TotalPremium TotalClaims  HasClaim      Margin  \n",
       "0     IFRS Constant    21.929825         0.0     False   21.929825  \n",
       "1     IFRS Constant    21.929825         0.0     False   21.929825  \n",
       "2     IFRS Constant     0.000000         0.0     False    0.000000  \n",
       "3     IFRS Constant   512.848070         0.0     False  512.848070  \n",
       "4     IFRS Constant     0.000000         0.0     False    0.000000  \n",
       "\n",
       "[5 rows x 54 columns]"
      ]
     },
     "execution_count": 7,
     "metadata": {},
     "output_type": "execute_result"
    }
   ],
   "source": [
    "df = pd.read_csv(\"../data/MachineLearningRating_v3.txt\", sep=\"|\", engine=\"python\", on_bad_lines=\"skip\")\n",
    "df = add_claim_flags(df)\n",
    "df.head()"
   ]
  },
  {
   "cell_type": "markdown",
   "id": "f56e87f9",
   "metadata": {},
   "source": [
    "H₀. No risk difference across provinces "
   ]
  },
  {
   "cell_type": "code",
   "execution_count": null,
   "id": "a5b92073",
   "metadata": {},
   "outputs": [],
   "source": [
    "stat, p = anova_numeric(df, 'Province', 'HasClaim')\n",
    "print(f\"[Province Risk] ANOVA p = {p:.4f}\")"
   ]
  },
  {
   "cell_type": "markdown",
   "id": "96af81c3",
   "metadata": {},
   "source": [
    "H₀. No risk difference between Zip Codes"
   ]
  },
  {
   "cell_type": "code",
   "execution_count": 8,
   "id": "fa6ad13b",
   "metadata": {},
   "outputs": [
    {
     "name": "stdout",
     "output_type": "stream",
     "text": [
      "[Zip Risk] Z-Test (1459 vs 7500) p = nan\n"
     ]
    },
    {
     "name": "stderr",
     "output_type": "stream",
     "text": [
      "c:\\Users\\Haile\\Downloads\\New folder\\Insurance-Analytics\\venv\\Lib\\site-packages\\statsmodels\\stats\\weightstats.py:792: RuntimeWarning: invalid value encountered in scalar divide\n",
      "  zstat = value / std\n"
     ]
    }
   ],
   "source": [
    "# Choose 2 common zipcodes\n",
    "zip1, zip2 = 1459, 7500\n",
    "stat, p = z_test_proportions(df, 'PostalCode', zip1, zip2)\n",
    "print(f\"[Zip Risk] Z-Test ({zip1} vs {zip2}) p = {p:.4f}\")"
   ]
  },
  {
   "cell_type": "markdown",
   "id": "4ff466aa",
   "metadata": {},
   "source": [
    "H₀. No margin difference between zip codes"
   ]
  },
  {
   "cell_type": "code",
   "execution_count": 9,
   "id": "a46cb5cb",
   "metadata": {},
   "outputs": [
    {
     "name": "stdout",
     "output_type": "stream",
     "text": [
      "[Zip Margin] T-Test (1459 vs 7500) p = 0.9256\n"
     ]
    }
   ],
   "source": [
    "stat, p = t_test_numeric(df, 'PostalCode', 'Margin', zip1, zip2)\n",
    "print(f\"[Zip Margin] T-Test ({zip1} vs {zip2}) p = {p:.4f}\")"
   ]
  },
  {
   "cell_type": "markdown",
   "id": "e9d66ea4",
   "metadata": {},
   "source": [
    "H₀. No risk difference between women and men"
   ]
  },
  {
   "cell_type": "code",
   "execution_count": 10,
   "id": "dda2b3dd",
   "metadata": {},
   "outputs": [
    {
     "name": "stdout",
     "output_type": "stream",
     "text": [
      "[Gender Risk] Z-Test p = 0.8405\n"
     ]
    }
   ],
   "source": [
    "stat, p = z_test_proportions(df, 'Gender', 'Male', 'Female')\n",
    "print(f\"[Gender Risk] Z-Test p = {p:.4f}\")"
   ]
  }
 ],
 "metadata": {
  "kernelspec": {
   "display_name": "venv",
   "language": "python",
   "name": "python3"
  },
  "language_info": {
   "codemirror_mode": {
    "name": "ipython",
    "version": 3
   },
   "file_extension": ".py",
   "mimetype": "text/x-python",
   "name": "python",
   "nbconvert_exporter": "python",
   "pygments_lexer": "ipython3",
   "version": "3.11.9"
  }
 },
 "nbformat": 4,
 "nbformat_minor": 5
}
